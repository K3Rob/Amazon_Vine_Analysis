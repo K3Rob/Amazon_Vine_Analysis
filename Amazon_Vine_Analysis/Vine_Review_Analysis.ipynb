{
 "cells": [
  {
   "cell_type": "code",
   "execution_count": 1,
   "id": "4bf68d67",
   "metadata": {},
   "outputs": [],
   "source": [
    "# Dependencies and Setup\n",
    "import pandas as pd\n",
    "\n",
    "vine_table = \"Resources/vine_table.csv\"\n",
    "\n",
    "vine_table_df = pd.read_csv(vine_table)"
   ]
  },
  {
   "cell_type": "code",
   "execution_count": 2,
   "id": "1cb9c2e5",
   "metadata": {},
   "outputs": [
    {
     "data": {
      "text/html": [
       "<div>\n",
       "<style scoped>\n",
       "    .dataframe tbody tr th:only-of-type {\n",
       "        vertical-align: middle;\n",
       "    }\n",
       "\n",
       "    .dataframe tbody tr th {\n",
       "        vertical-align: top;\n",
       "    }\n",
       "\n",
       "    .dataframe thead th {\n",
       "        text-align: right;\n",
       "    }\n",
       "</style>\n",
       "<table border=\"1\" class=\"dataframe\">\n",
       "  <thead>\n",
       "    <tr style=\"text-align: right;\">\n",
       "      <th></th>\n",
       "      <th>review_id</th>\n",
       "      <th>star_rating</th>\n",
       "      <th>helpful_votes</th>\n",
       "      <th>total_votes</th>\n",
       "      <th>vine</th>\n",
       "      <th>verified_purchase</th>\n",
       "    </tr>\n",
       "  </thead>\n",
       "  <tbody>\n",
       "    <tr>\n",
       "      <th>0</th>\n",
       "      <td>RTIS3L2M1F5SM</td>\n",
       "      <td>5</td>\n",
       "      <td>0</td>\n",
       "      <td>0</td>\n",
       "      <td>N</td>\n",
       "      <td>Y</td>\n",
       "    </tr>\n",
       "    <tr>\n",
       "      <th>1</th>\n",
       "      <td>R1ZV7R40OLHKD</td>\n",
       "      <td>5</td>\n",
       "      <td>0</td>\n",
       "      <td>0</td>\n",
       "      <td>N</td>\n",
       "      <td>Y</td>\n",
       "    </tr>\n",
       "    <tr>\n",
       "      <th>2</th>\n",
       "      <td>R3BH071QLH8QMC</td>\n",
       "      <td>1</td>\n",
       "      <td>0</td>\n",
       "      <td>1</td>\n",
       "      <td>N</td>\n",
       "      <td>Y</td>\n",
       "    </tr>\n",
       "    <tr>\n",
       "      <th>3</th>\n",
       "      <td>R127K9NTSXA2YH</td>\n",
       "      <td>3</td>\n",
       "      <td>0</td>\n",
       "      <td>0</td>\n",
       "      <td>N</td>\n",
       "      <td>Y</td>\n",
       "    </tr>\n",
       "    <tr>\n",
       "      <th>4</th>\n",
       "      <td>R32ZWUXDJPW27Q</td>\n",
       "      <td>4</td>\n",
       "      <td>0</td>\n",
       "      <td>0</td>\n",
       "      <td>N</td>\n",
       "      <td>Y</td>\n",
       "    </tr>\n",
       "  </tbody>\n",
       "</table>\n",
       "</div>"
      ],
      "text/plain": [
       "        review_id  star_rating  helpful_votes  total_votes vine  \\\n",
       "0   RTIS3L2M1F5SM            5              0            0    N   \n",
       "1   R1ZV7R40OLHKD            5              0            0    N   \n",
       "2  R3BH071QLH8QMC            1              0            1    N   \n",
       "3  R127K9NTSXA2YH            3              0            0    N   \n",
       "4  R32ZWUXDJPW27Q            4              0            0    N   \n",
       "\n",
       "  verified_purchase  \n",
       "0                 Y  \n",
       "1                 Y  \n",
       "2                 Y  \n",
       "3                 Y  \n",
       "4                 Y  "
      ]
     },
     "execution_count": 2,
     "metadata": {},
     "output_type": "execute_result"
    }
   ],
   "source": [
    "# verify table\n",
    "vine_table_df.head(5)"
   ]
  },
  {
   "cell_type": "code",
   "execution_count": 3,
   "id": "2891bf79",
   "metadata": {},
   "outputs": [
    {
     "data": {
      "text/plain": [
       "review_id            object\n",
       "star_rating           int64\n",
       "helpful_votes         int64\n",
       "total_votes           int64\n",
       "vine                 object\n",
       "verified_purchase    object\n",
       "dtype: object"
      ]
     },
     "execution_count": 3,
     "metadata": {},
     "output_type": "execute_result"
    }
   ],
   "source": [
    "# verify data types\n",
    "vine_table_df.dtypes"
   ]
  },
  {
   "cell_type": "code",
   "execution_count": 4,
   "id": "906cfe46",
   "metadata": {},
   "outputs": [
    {
     "data": {
      "text/html": [
       "<div>\n",
       "<style scoped>\n",
       "    .dataframe tbody tr th:only-of-type {\n",
       "        vertical-align: middle;\n",
       "    }\n",
       "\n",
       "    .dataframe tbody tr th {\n",
       "        vertical-align: top;\n",
       "    }\n",
       "\n",
       "    .dataframe thead th {\n",
       "        text-align: right;\n",
       "    }\n",
       "</style>\n",
       "<table border=\"1\" class=\"dataframe\">\n",
       "  <thead>\n",
       "    <tr style=\"text-align: right;\">\n",
       "      <th></th>\n",
       "      <th>review_id</th>\n",
       "      <th>star_rating</th>\n",
       "      <th>helpful_votes</th>\n",
       "      <th>total_votes</th>\n",
       "      <th>vine</th>\n",
       "      <th>verified_purchase</th>\n",
       "    </tr>\n",
       "  </thead>\n",
       "  <tbody>\n",
       "    <tr>\n",
       "      <th>55</th>\n",
       "      <td>R4PKAZRQJJX14</td>\n",
       "      <td>1</td>\n",
       "      <td>21</td>\n",
       "      <td>34</td>\n",
       "      <td>N</td>\n",
       "      <td>N</td>\n",
       "    </tr>\n",
       "    <tr>\n",
       "      <th>74</th>\n",
       "      <td>R2CI0Y288CC7E2</td>\n",
       "      <td>1</td>\n",
       "      <td>21</td>\n",
       "      <td>35</td>\n",
       "      <td>N</td>\n",
       "      <td>Y</td>\n",
       "    </tr>\n",
       "    <tr>\n",
       "      <th>209</th>\n",
       "      <td>R127WEQY2FM1T3</td>\n",
       "      <td>1</td>\n",
       "      <td>147</td>\n",
       "      <td>175</td>\n",
       "      <td>N</td>\n",
       "      <td>Y</td>\n",
       "    </tr>\n",
       "    <tr>\n",
       "      <th>289</th>\n",
       "      <td>R3EZ0EPYLDA34S</td>\n",
       "      <td>1</td>\n",
       "      <td>14</td>\n",
       "      <td>31</td>\n",
       "      <td>N</td>\n",
       "      <td>Y</td>\n",
       "    </tr>\n",
       "    <tr>\n",
       "      <th>483</th>\n",
       "      <td>R2FJ94555FZH32</td>\n",
       "      <td>2</td>\n",
       "      <td>55</td>\n",
       "      <td>60</td>\n",
       "      <td>N</td>\n",
       "      <td>N</td>\n",
       "    </tr>\n",
       "  </tbody>\n",
       "</table>\n",
       "</div>"
      ],
      "text/plain": [
       "          review_id  star_rating  helpful_votes  total_votes vine  \\\n",
       "55    R4PKAZRQJJX14            1             21           34    N   \n",
       "74   R2CI0Y288CC7E2            1             21           35    N   \n",
       "209  R127WEQY2FM1T3            1            147          175    N   \n",
       "289  R3EZ0EPYLDA34S            1             14           31    N   \n",
       "483  R2FJ94555FZH32            2             55           60    N   \n",
       "\n",
       "    verified_purchase  \n",
       "55                  N  \n",
       "74                  Y  \n",
       "209                 Y  \n",
       "289                 Y  \n",
       "483                 N  "
      ]
     },
     "execution_count": 4,
     "metadata": {},
     "output_type": "execute_result"
    }
   ],
   "source": [
    "# locate all reviews w/ >=20 total_votes\n",
    "total_votes_20 = vine_table_df.loc[vine_table_df['total_votes'] >= 20]\n",
    "total_votes_20.head()"
   ]
  },
  {
   "cell_type": "code",
   "execution_count": 5,
   "id": "95b40f4e",
   "metadata": {},
   "outputs": [
    {
     "data": {
      "text/html": [
       "<div>\n",
       "<style scoped>\n",
       "    .dataframe tbody tr th:only-of-type {\n",
       "        vertical-align: middle;\n",
       "    }\n",
       "\n",
       "    .dataframe tbody tr th {\n",
       "        vertical-align: top;\n",
       "    }\n",
       "\n",
       "    .dataframe thead th {\n",
       "        text-align: right;\n",
       "    }\n",
       "</style>\n",
       "<table border=\"1\" class=\"dataframe\">\n",
       "  <thead>\n",
       "    <tr style=\"text-align: right;\">\n",
       "      <th></th>\n",
       "      <th>review_id</th>\n",
       "      <th>star_rating</th>\n",
       "      <th>helpful_votes</th>\n",
       "      <th>total_votes</th>\n",
       "      <th>vine</th>\n",
       "      <th>verified_purchase</th>\n",
       "    </tr>\n",
       "  </thead>\n",
       "  <tbody>\n",
       "    <tr>\n",
       "      <th>55</th>\n",
       "      <td>R4PKAZRQJJX14</td>\n",
       "      <td>1</td>\n",
       "      <td>21</td>\n",
       "      <td>34</td>\n",
       "      <td>N</td>\n",
       "      <td>N</td>\n",
       "    </tr>\n",
       "    <tr>\n",
       "      <th>74</th>\n",
       "      <td>R2CI0Y288CC7E2</td>\n",
       "      <td>1</td>\n",
       "      <td>21</td>\n",
       "      <td>35</td>\n",
       "      <td>N</td>\n",
       "      <td>Y</td>\n",
       "    </tr>\n",
       "    <tr>\n",
       "      <th>209</th>\n",
       "      <td>R127WEQY2FM1T3</td>\n",
       "      <td>1</td>\n",
       "      <td>147</td>\n",
       "      <td>175</td>\n",
       "      <td>N</td>\n",
       "      <td>Y</td>\n",
       "    </tr>\n",
       "    <tr>\n",
       "      <th>483</th>\n",
       "      <td>R2FJ94555FZH32</td>\n",
       "      <td>2</td>\n",
       "      <td>55</td>\n",
       "      <td>60</td>\n",
       "      <td>N</td>\n",
       "      <td>N</td>\n",
       "    </tr>\n",
       "    <tr>\n",
       "      <th>537</th>\n",
       "      <td>R1U3AR67RE273L</td>\n",
       "      <td>1</td>\n",
       "      <td>51</td>\n",
       "      <td>65</td>\n",
       "      <td>N</td>\n",
       "      <td>Y</td>\n",
       "    </tr>\n",
       "  </tbody>\n",
       "</table>\n",
       "</div>"
      ],
      "text/plain": [
       "          review_id  star_rating  helpful_votes  total_votes vine  \\\n",
       "55    R4PKAZRQJJX14            1             21           34    N   \n",
       "74   R2CI0Y288CC7E2            1             21           35    N   \n",
       "209  R127WEQY2FM1T3            1            147          175    N   \n",
       "483  R2FJ94555FZH32            2             55           60    N   \n",
       "537  R1U3AR67RE273L            1             51           65    N   \n",
       "\n",
       "    verified_purchase  \n",
       "55                  N  \n",
       "74                  Y  \n",
       "209                 Y  \n",
       "483                 N  \n",
       "537                 Y  "
      ]
     },
     "execution_count": 5,
     "metadata": {},
     "output_type": "execute_result"
    }
   ],
   "source": [
    "# locate all reviews w/ helpful_votes/total_votes>=50% \n",
    "perc_helpful_df = total_votes_20.loc[total_votes_20['helpful_votes']/total_votes_20['total_votes'] >= .5]\n",
    "perc_helpful_df.head()"
   ]
  },
  {
   "cell_type": "code",
   "execution_count": 6,
   "id": "0f610147",
   "metadata": {},
   "outputs": [
    {
     "data": {
      "text/html": [
       "<div>\n",
       "<style scoped>\n",
       "    .dataframe tbody tr th:only-of-type {\n",
       "        vertical-align: middle;\n",
       "    }\n",
       "\n",
       "    .dataframe tbody tr th {\n",
       "        vertical-align: top;\n",
       "    }\n",
       "\n",
       "    .dataframe thead th {\n",
       "        text-align: right;\n",
       "    }\n",
       "</style>\n",
       "<table border=\"1\" class=\"dataframe\">\n",
       "  <thead>\n",
       "    <tr style=\"text-align: right;\">\n",
       "      <th></th>\n",
       "      <th>review_id</th>\n",
       "      <th>star_rating</th>\n",
       "      <th>helpful_votes</th>\n",
       "      <th>total_votes</th>\n",
       "      <th>vine</th>\n",
       "      <th>verified_purchase</th>\n",
       "    </tr>\n",
       "  </thead>\n",
       "  <tbody>\n",
       "    <tr>\n",
       "      <th>32611</th>\n",
       "      <td>R3KKUSGFZWSUIY</td>\n",
       "      <td>5</td>\n",
       "      <td>56</td>\n",
       "      <td>63</td>\n",
       "      <td>Y</td>\n",
       "      <td>N</td>\n",
       "    </tr>\n",
       "    <tr>\n",
       "      <th>33112</th>\n",
       "      <td>R10FO5UKKVZBK2</td>\n",
       "      <td>3</td>\n",
       "      <td>23</td>\n",
       "      <td>23</td>\n",
       "      <td>Y</td>\n",
       "      <td>N</td>\n",
       "    </tr>\n",
       "    <tr>\n",
       "      <th>69680</th>\n",
       "      <td>RM4KSGEOR7MU1</td>\n",
       "      <td>5</td>\n",
       "      <td>19</td>\n",
       "      <td>24</td>\n",
       "      <td>Y</td>\n",
       "      <td>N</td>\n",
       "    </tr>\n",
       "    <tr>\n",
       "      <th>155361</th>\n",
       "      <td>RG7VRMYLEXD23</td>\n",
       "      <td>4</td>\n",
       "      <td>22</td>\n",
       "      <td>26</td>\n",
       "      <td>Y</td>\n",
       "      <td>N</td>\n",
       "    </tr>\n",
       "    <tr>\n",
       "      <th>239327</th>\n",
       "      <td>R11O4YSCPSNL6L</td>\n",
       "      <td>3</td>\n",
       "      <td>20</td>\n",
       "      <td>26</td>\n",
       "      <td>Y</td>\n",
       "      <td>N</td>\n",
       "    </tr>\n",
       "  </tbody>\n",
       "</table>\n",
       "</div>"
      ],
      "text/plain": [
       "             review_id  star_rating  helpful_votes  total_votes vine  \\\n",
       "32611   R3KKUSGFZWSUIY            5             56           63    Y   \n",
       "33112   R10FO5UKKVZBK2            3             23           23    Y   \n",
       "69680    RM4KSGEOR7MU1            5             19           24    Y   \n",
       "155361   RG7VRMYLEXD23            4             22           26    Y   \n",
       "239327  R11O4YSCPSNL6L            3             20           26    Y   \n",
       "\n",
       "       verified_purchase  \n",
       "32611                  N  \n",
       "33112                  N  \n",
       "69680                  N  \n",
       "155361                 N  \n",
       "239327                 N  "
      ]
     },
     "execution_count": 6,
     "metadata": {},
     "output_type": "execute_result"
    }
   ],
   "source": [
    "# retrieve all the rows where a review was written as part of the Vine program\n",
    "helpful_vines_df = perc_helpful_df.loc[perc_helpful_df['vine'] == 'Y']\n",
    "helpful_vines_df.head()"
   ]
  },
  {
   "cell_type": "code",
   "execution_count": 7,
   "id": "4da11a2f",
   "metadata": {},
   "outputs": [
    {
     "data": {
      "text/html": [
       "<div>\n",
       "<style scoped>\n",
       "    .dataframe tbody tr th:only-of-type {\n",
       "        vertical-align: middle;\n",
       "    }\n",
       "\n",
       "    .dataframe tbody tr th {\n",
       "        vertical-align: top;\n",
       "    }\n",
       "\n",
       "    .dataframe thead th {\n",
       "        text-align: right;\n",
       "    }\n",
       "</style>\n",
       "<table border=\"1\" class=\"dataframe\">\n",
       "  <thead>\n",
       "    <tr style=\"text-align: right;\">\n",
       "      <th></th>\n",
       "      <th>review_id</th>\n",
       "      <th>star_rating</th>\n",
       "      <th>helpful_votes</th>\n",
       "      <th>total_votes</th>\n",
       "      <th>vine</th>\n",
       "      <th>verified_purchase</th>\n",
       "    </tr>\n",
       "  </thead>\n",
       "  <tbody>\n",
       "    <tr>\n",
       "      <th>55</th>\n",
       "      <td>R4PKAZRQJJX14</td>\n",
       "      <td>1</td>\n",
       "      <td>21</td>\n",
       "      <td>34</td>\n",
       "      <td>N</td>\n",
       "      <td>N</td>\n",
       "    </tr>\n",
       "    <tr>\n",
       "      <th>74</th>\n",
       "      <td>R2CI0Y288CC7E2</td>\n",
       "      <td>1</td>\n",
       "      <td>21</td>\n",
       "      <td>35</td>\n",
       "      <td>N</td>\n",
       "      <td>Y</td>\n",
       "    </tr>\n",
       "    <tr>\n",
       "      <th>209</th>\n",
       "      <td>R127WEQY2FM1T3</td>\n",
       "      <td>1</td>\n",
       "      <td>147</td>\n",
       "      <td>175</td>\n",
       "      <td>N</td>\n",
       "      <td>Y</td>\n",
       "    </tr>\n",
       "    <tr>\n",
       "      <th>483</th>\n",
       "      <td>R2FJ94555FZH32</td>\n",
       "      <td>2</td>\n",
       "      <td>55</td>\n",
       "      <td>60</td>\n",
       "      <td>N</td>\n",
       "      <td>N</td>\n",
       "    </tr>\n",
       "    <tr>\n",
       "      <th>537</th>\n",
       "      <td>R1U3AR67RE273L</td>\n",
       "      <td>1</td>\n",
       "      <td>51</td>\n",
       "      <td>65</td>\n",
       "      <td>N</td>\n",
       "      <td>Y</td>\n",
       "    </tr>\n",
       "  </tbody>\n",
       "</table>\n",
       "</div>"
      ],
      "text/plain": [
       "          review_id  star_rating  helpful_votes  total_votes vine  \\\n",
       "55    R4PKAZRQJJX14            1             21           34    N   \n",
       "74   R2CI0Y288CC7E2            1             21           35    N   \n",
       "209  R127WEQY2FM1T3            1            147          175    N   \n",
       "483  R2FJ94555FZH32            2             55           60    N   \n",
       "537  R1U3AR67RE273L            1             51           65    N   \n",
       "\n",
       "    verified_purchase  \n",
       "55                  N  \n",
       "74                  Y  \n",
       "209                 Y  \n",
       "483                 N  \n",
       "537                 Y  "
      ]
     },
     "execution_count": 7,
     "metadata": {},
     "output_type": "execute_result"
    }
   ],
   "source": [
    "helpful_nonvines_df = perc_helpful_df.loc[perc_helpful_df['vine'] == 'N']\n",
    "helpful_nonvines_df.head()"
   ]
  },
  {
   "cell_type": "code",
   "execution_count": 8,
   "id": "b2b01649",
   "metadata": {},
   "outputs": [
    {
     "data": {
      "text/plain": [
       "65379"
      ]
     },
     "execution_count": 8,
     "metadata": {},
     "output_type": "execute_result"
    }
   ],
   "source": [
    "# Total num reviews\n",
    "total_vote_len = len(total_votes_20.index)\n",
    "total_vote_len"
   ]
  },
  {
   "cell_type": "code",
   "execution_count": 9,
   "id": "a1b36050",
   "metadata": {},
   "outputs": [
    {
     "data": {
      "text/plain": [
       "15711"
      ]
     },
     "execution_count": 9,
     "metadata": {},
     "output_type": "execute_result"
    }
   ],
   "source": [
    "# Total num of 5 star reviews\n",
    "total_5star_len = len(helpful_vines_df.loc[helpful_vines_df['star_rating'] == 5]\n",
    "    .index)+len(helpful_nonvines_df.loc[helpful_nonvines_df['star_rating'] == 5].index)\n",
    "total_5star_len"
   ]
  },
  {
   "cell_type": "code",
   "execution_count": 10,
   "id": "ef6ca028",
   "metadata": {},
   "outputs": [
    {
     "name": "stdout",
     "output_type": "stream",
     "text": [
      "48\n"
     ]
    }
   ],
   "source": [
    "# number of 5 star reviews; vine\n",
    "vine_5star_df = helpful_vines_df.loc[helpful_vines_df['star_rating'] == 5]\n",
    "\n",
    "vine_5star_len = len(vine_5star_df.index)\n",
    "print(vine_5star_len)"
   ]
  },
  {
   "cell_type": "code",
   "execution_count": 11,
   "id": "630e0463",
   "metadata": {},
   "outputs": [
    {
     "data": {
      "text/plain": [
       "0.30551842658010314"
      ]
     },
     "execution_count": 11,
     "metadata": {},
     "output_type": "execute_result"
    }
   ],
   "source": [
    "# percent of 5 star reviews; vine\n",
    "perc_5star_vine = vine_5star_len/total_5star_len*100\n",
    "perc_5star_vine"
   ]
  },
  {
   "cell_type": "code",
   "execution_count": 12,
   "id": "89dc7a3d",
   "metadata": {},
   "outputs": [
    {
     "name": "stdout",
     "output_type": "stream",
     "text": [
      "15663\n"
     ]
    }
   ],
   "source": [
    "# number of 5 star reviews; nonvine\n",
    "nonvine_5star_df = helpful_nonvines_df.loc[helpful_nonvines_df['star_rating'] == 5]\n",
    "\n",
    "nonvine_5star_len = len(nonvine_5star_df.index)\n",
    "print(nonvine_5star_len)"
   ]
  },
  {
   "cell_type": "code",
   "execution_count": 13,
   "id": "0a202241",
   "metadata": {},
   "outputs": [
    {
     "data": {
      "text/plain": [
       "99.6944815734199"
      ]
     },
     "execution_count": 13,
     "metadata": {},
     "output_type": "execute_result"
    }
   ],
   "source": [
    "# percent of 5 star reviews; nonvine\n",
    "perc_5star_nonvine = nonvine_5star_len/total_5star_len*100\n",
    "perc_5star_nonvine"
   ]
  },
  {
   "cell_type": "code",
   "execution_count": null,
   "id": "1b943a6f",
   "metadata": {},
   "outputs": [],
   "source": []
  }
 ],
 "metadata": {
  "kernelspec": {
   "display_name": "Python 3 (ipykernel)",
   "language": "python",
   "name": "python3"
  },
  "language_info": {
   "codemirror_mode": {
    "name": "ipython",
    "version": 3
   },
   "file_extension": ".py",
   "mimetype": "text/x-python",
   "name": "python",
   "nbconvert_exporter": "python",
   "pygments_lexer": "ipython3",
   "version": "3.7.13"
  }
 },
 "nbformat": 4,
 "nbformat_minor": 5
}
